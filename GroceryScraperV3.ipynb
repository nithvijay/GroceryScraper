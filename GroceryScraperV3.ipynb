{
 "cells": [
  {
   "cell_type": "code",
   "execution_count": 79,
   "metadata": {},
   "outputs": [],
   "source": [
    "from bs4 import BeautifulSoup\n",
    "import pandas as pd\n",
    "import glob\n",
    "import re"
   ]
  },
  {
   "cell_type": "code",
   "execution_count": 80,
   "metadata": {},
   "outputs": [],
   "source": [
    "ITEM_CLASS = r\"PH-ProductCard-container\"\n",
    "DESCRIPTION_CLASS = r\"flex flex-col pl-16\"\n",
    "PRICE_CLASS = r\"PH-ProductCard-Total\""
   ]
  },
  {
   "cell_type": "code",
   "execution_count": 81,
   "metadata": {},
   "outputs": [],
   "source": [
    "def get_df_from_filename(filename):\n",
    "    soup = BeautifulSoup(open(filename), \"html.parser\")\n",
    "    items = []\n",
    "    for item in soup.find_all('article', {'class' : ITEM_CLASS}):\n",
    "        tag = item.find('div', {'class': re.compile(DESCRIPTION_CLASS + \".*\")})\n",
    "        items.append([x for x in tag.strings] + [item.find('span', {'class': re.compile(PRICE_CLASS + \".*\")}).string])\n",
    "    df = pd.DataFrame(items)\n",
    "    df[2] = df[2] + df[3] + df[4]\n",
    "    df = df[[0,1,2,5]].rename({0: 'Item', 1:'Selling Quantity', 2:'Price per Quantity', 5: 'Price'}, axis = 1)\n",
    "    return df"
   ]
  },
  {
   "cell_type": "code",
   "execution_count": 82,
   "metadata": {},
   "outputs": [],
   "source": [
    "def get_csv(htmls, csvs):\n",
    "    html_files = glob.glob(htmls)\n",
    "    csv_files = pd.Series(glob.glob(csvs))\n",
    "    for html_file in html_files:\n",
    "        start_index = html_file.rindex('/') + 1\n",
    "        end_index = html_file.rindex('.')\n",
    "        file_name = html_file[start_index:end_index]\n",
    "        if (len(csv_files) == 0) or (~(csv_files.str.contains(file_name).any())):\n",
    "            print('Creating csv from {}.html'.format(file_name))\n",
    "            get_df_from_filename(html_file).to_csv(html_file[:-5] + \".csv\", index = False)\n",
    "        else:\n",
    "            print('{}.csv already exists'.format(file_name))"
   ]
  },
  {
   "cell_type": "code",
   "execution_count": 86,
   "metadata": {},
   "outputs": [
    {
     "name": "stdout",
     "output_type": "stream",
     "text": [
      "Creating csv from Kroger2_29.html\n",
      "/Users/nvijayakumar/OneDrive/School/College/Misc/Grocery/Kroger2_29.html\n",
      "Kroger1_24.csv already exists\n",
      "Kroger2_14.csv already exists\n",
      "Creating csv from Kroger1_12.html\n",
      "/Users/nvijayakumar/OneDrive/School/College/Misc/Grocery/Kroger1_12.html\n",
      "Kroger2_1.csv already exists\n",
      "Kroger2_21.csv already exists\n",
      "Creating csv from Kroger2_30.html\n",
      "/Users/nvijayakumar/OneDrive/School/College/Misc/Grocery/Kroger2_30.html\n",
      "Kroger2_7.csv already exists\n",
      "Kroger1_17.csv already exists\n"
     ]
    }
   ],
   "source": [
    "htmls = '/Users/nvijayakumar/OneDrive/School/College/Misc/Grocery/*.html'\n",
    "csvs = '/Users/nvijayakumar/OneDrive/School/College/Misc/Grocery/*.csv'\n",
    "get_csv(htmls, csvs)"
   ]
  },
  {
   "cell_type": "code",
   "execution_count": null,
   "metadata": {},
   "outputs": [],
   "source": []
  }
 ],
 "metadata": {
  "kernelspec": {
   "display_name": "Python 3",
   "language": "python",
   "name": "python3"
  },
  "language_info": {
   "codemirror_mode": {
    "name": "ipython",
    "version": 3
   },
   "file_extension": ".py",
   "mimetype": "text/x-python",
   "name": "python",
   "nbconvert_exporter": "python",
   "pygments_lexer": "ipython3",
   "version": "3.7.4"
  }
 },
 "nbformat": 4,
 "nbformat_minor": 4
}
