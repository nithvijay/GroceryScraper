{
 "cells": [
  {
   "cell_type": "code",
<<<<<<< HEAD
   "execution_count": 1,
=======
   "execution_count": 36,
>>>>>>> 1cc7b5939dac6a69315d584e99f49a7991d246da
   "metadata": {},
   "outputs": [],
   "source": [
    "from bs4 import BeautifulSoup\n",
    "import pandas as pd\n",
    "import glob"
   ]
  },
  {
   "cell_type": "code",
<<<<<<< HEAD
   "execution_count": 2,
=======
   "execution_count": 39,
>>>>>>> 1cc7b5939dac6a69315d584e99f49a7991d246da
   "metadata": {},
   "outputs": [],
   "source": [
    "def get_df_from_filename(filename):\n",
    "    soup = BeautifulSoup(open(filename), \"html.parser\")\n",
    "    items = []\n",
    "    for item in soup.find_all('div', {'class' : 'PH-ProductCard-product-info flex content-start justify-end'}):\n",
    "        tag = item.find('div', {'class': 'flex flex-col pl-16'})\n",
    "        items.append([x for x in tag.strings] + [item.find('span', {'class': 'PH-ProductCard-Total'}).string])\n",
    "        df = pd.DataFrame(items)\n",
    "    df[2] = df[2] + df[3] + df[4]\n",
    "    df = df[[0,1,2,5]].rename({0: 'Item', 1:'Selling Quantity', 2:'Price per Quantity', 5: 'Price'}, axis = 1)\n",
    "    return df"
   ]
  },
  {
   "cell_type": "code",
<<<<<<< HEAD
   "execution_count": 3,
   "metadata": {},
   "outputs": [],
   "source": [
    "def get_csv(htmls, csvs):\n",
    "    html_files = glob.glob(htmls)\n",
    "    csv_files = pd.Series(glob.glob(csvs))\n",
    "    for html_file in html_files:\n",
    "        start_index = html_file.rindex('/') + 1\n",
    "        end_index = html_file.rindex('.')\n",
    "        file_name = html_file[start_index:end_index]\n",
    "        if (len(csv_files) == 0) or (~(csv_files.str.contains(file_name).any())):\n",
    "            print('Creating csv from {}.html'.format(file_name))\n",
    "            get_df_from_filename(html_file).to_csv(html_file[:-5] + \".csv\", index = False)\n",
    "        else:\n",
    "            print('{}.csv already exists'.format(file_name))"
   ]
  },
  {
   "cell_type": "code",
   "execution_count": 4,
=======
   "execution_count": 40,
>>>>>>> 1cc7b5939dac6a69315d584e99f49a7991d246da
   "metadata": {},
   "outputs": [
    {
     "name": "stdout",
     "output_type": "stream",
<<<<<<< HEAD
     "text": "Kroger1_12.csv already exists\nKroger1_17.csv already exists\n"
    }
   ],
   "source": [
    "htmls = '/Users/nvijayakumar/OneDrive/School/College/Misc/Grocery/*.html'\n",
    "csvs = '/Users/nvijayakumar/OneDrive/School/College/Misc/Grocery/*.csv'\n",
    "get_csv(htmls, csvs)"
=======
     "text": [
      "Kroger1_12.csv already exists\n",
      "Kroger1_17.csv already exists\n"
     ]
    }
   ],
   "source": [
    "html_files = glob.glob('/Users/nvijayakumar/OneDrive/School/College/Misc/Grocery/*.html')\n",
    "csv_files = pd.Series(glob.glob('/Users/nvijayakumar/OneDrive/School/College/Misc/Grocery/*.csv'))\n",
    "for html_file in html_files:\n",
    "    start_index = html_file.rindex('/') + 1\n",
    "    end_index = html_file.rindex('.')\n",
    "    file_name = html_file[start_index:end_index]\n",
    "    if (len(csv_files) == 0) or (~(csv_files.str.contains(file_name).any())):\n",
    "        print('Creating csv from {}.html'.format(file_name))\n",
    "        get_df_from_filename(html_file).to_csv(html_file[:-5] + \".csv\", index = False)\n",
    "    else:\n",
    "        print('{}.csv already exists'.format(file_name))"
>>>>>>> 1cc7b5939dac6a69315d584e99f49a7991d246da
   ]
  },
  {
   "cell_type": "code",
   "execution_count": null,
   "metadata": {},
   "outputs": [],
   "source": []
  }
 ],
 "metadata": {
  "kernelspec": {
   "display_name": "Python 3",
   "language": "python",
   "name": "python3"
  },
  "language_info": {
   "codemirror_mode": {
    "name": "ipython",
    "version": 3
   },
   "file_extension": ".py",
   "mimetype": "text/x-python",
   "name": "python",
   "nbconvert_exporter": "python",
   "pygments_lexer": "ipython3",
<<<<<<< HEAD
   "version": "3.7.3-final"
=======
   "version": "3.7.3"
>>>>>>> 1cc7b5939dac6a69315d584e99f49a7991d246da
  }
 },
 "nbformat": 4,
 "nbformat_minor": 4
<<<<<<< HEAD
}
=======
}
>>>>>>> 1cc7b5939dac6a69315d584e99f49a7991d246da
