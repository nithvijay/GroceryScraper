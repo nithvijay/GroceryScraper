{
 "cells": [
  {
   "cell_type": "code",
   "execution_count": 1,
   "metadata": {},
   "outputs": [],
   "source": [
    "from bs4 import BeautifulSoup\n",
    "import pandas as pd\n",
    "import glob"
   ]
  },
  {
   "cell_type": "code",
   "execution_count": 1,
   "metadata": {},
   "outputs": [],
   "source": [
    "def get_df_from_filename(filename):\n",
    "    soup = BeautifulSoup(open(filename), \"html.parser\")\n",
    "    items = []\n",
    "    for tag in soup.find_all('div', {'class': 'PH-ProductCard-description flex justify-between'}):\n",
    "        items.append([x for x in tag.strings])\n",
    "    df = pd.DataFrame(items)[[0, 1, 2, 3]].rename({0: 'Item', 1:'Selling Quantity', 2:'Price per Quantity', 3: 'Price'}, axis = 1)\n",
    "    df.to_csv(filename[:-5] + \".csv\", index = False)\n",
    "    return df"
   ]
  },
  {
   "cell_type": "code",
   "execution_count": 1,
   "metadata": {},
   "outputs": [],
   "source": [
    "html_files = glob.glob('/Users/nvijayakumar/OneDrive/School/College/19 Fall/Misc/Grocery/*.html')\n",
    "csv_files = pd.Series(glob.glob('/Users/nvijayakumar/OneDrive/School/College/19 Fall/Misc/Grocery/*.csv'))\n",
    "for html_file in html_files:\n",
    "    start_index = html_file.rindex('/') + 1\n",
    "    end_index = html_file.rindex('.')\n",
    "    file_name = html_file[start_index:end_index]\n",
    "    if ~(csv_files.str.contains(file_name).any()):\n",
    "        print('Creating csv from {}.html'.format(file_name))\n",
    "        get_df_from_filename(html_file)\n",
    "    else:\n",
    "        print('{}.csv already exists'.format(file_name))"
   ]
  },
  {
   "cell_type": "code",
   "execution_count": null,
   "metadata": {},
   "outputs": [],
   "source": []
  }
 ],
 "metadata": {
  "kernelspec": {
   "display_name": "Python 3",
   "language": "python",
   "name": "python3"
  },
  "language_info": {
   "codemirror_mode": {
    "name": "ipython",
    "version": 3
   },
   "file_extension": ".py",
   "mimetype": "text/x-python",
   "name": "python",
   "nbconvert_exporter": "python",
   "pygments_lexer": "ipython3",
   "version": "3.7.3"
  }
 },
 "nbformat": 4,
 "nbformat_minor": 4
}
